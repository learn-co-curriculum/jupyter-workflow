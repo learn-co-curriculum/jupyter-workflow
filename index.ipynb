{
 "cells": [
  {
   "cell_type": "markdown",
   "id": "b20792a8-761a-48bc-88d0-dbc68824bc71",
   "metadata": {
    "tags": []
   },
   "source": [
    "# Introduction"
   ]
  },
  {
   "cell_type": "markdown",
   "id": "06b8598e-8269-45a1-854c-310fc124e26a",
   "metadata": {
    "slideshow": {
     "slide_type": "notes"
    },
    "tags": []
   },
   "source": [
    "This notebook serves as a walkthrough for a basic jupyter project workflow, and will cover the following topics:\n",
    "\n",
    "1. Jupyter Notebook vs. Jupyter Lab\n",
    "2. Common mistakes\n",
    "4. Some useful keyboard shortcuts\n",
    "5. Jupyter Extensions\n",
    "6. Folder organization\n",
    "7. Using Markdown"
   ]
  },
  {
   "cell_type": "markdown",
   "id": "92226875-eef0-4d63-b6bb-f3ee8bdcff68",
   "metadata": {
    "tags": []
   },
   "source": [
    "# Jupyter Notebook vs Jupyter Lab"
   ]
  },
  {
   "cell_type": "markdown",
   "id": "9f8edecf-9ef3-44d2-a317-7b14449bcf7c",
   "metadata": {},
   "source": [
    "`Jupyter Notebook` and `Jupyter Lab` are both software products for editing `.ipynb` files (IPython Notebooks). \n",
    "> Colloquially, `.ipynb` files are referred to as \"jupyter notebooks\". You may have made edits to the file in `Jupyter Lab` but we still refer to the file as a jupyter notebook.\n",
    "\n",
    "`Jupyter Lab` is the [next generation](https://dictionary.cambridge.org/us/dictionary/english/next-generation) version of `Jupyter Notebook` and according to the [documentation](https://jupyterlab.readthedocs.io/en/stable/getting_started/overview.html#jupyterlab-releases), `Jupyter Lab` will eventually replace the `Jupyter Notebook` software entirely. For this reason, `Jupyter Lab` is recommended.\n",
    "\n",
    "- `Jupyter Notebook` tends to be more user friendly for beginners, while `Jupyter Lab` has more features and is more customizable.\n",
    "- A major difference between the two is when using `Jupyter Notebook`, every file is opened in a different browser tab, while in `Jupyter Lab` only one browser tab is ever used. \n",
    "\n",
    "\n",
    "|                  | IPython Notebooks | Collapsible Headers | Table of Contents | Multi Window View | Extensions |\n",
    "|------------------|:------------------:|:-------------------:|:-----------------:|:-----------------:|:----------:|\n",
    "| Jupyter Notebook |          ✅         |          ✅          |         ✅         |         ❌         |   Partial  |\n",
    "| Jupyter Lab      |          ✅         |          ✅          |         ✅         |         ✅         |      ✅     |"
   ]
  },
  {
   "cell_type": "markdown",
   "id": "87919fe4-34b3-48c9-9113-1503988b9d6d",
   "metadata": {
    "tags": [],
    "toc-hr-collapsed": true
   },
   "source": [
    "### Opening `.ipynb` files."
   ]
  },
  {
   "cell_type": "markdown",
   "id": "c4226adb-1660-4d68-a495-95152668ed33",
   "metadata": {},
   "source": [
    "- To run Jupyter Notebook, simply navigate into your project folder, and run the command `jupyter notebook`.\n",
    "- To run Jupyter Lab, simply navigate into your project folder, and run the command `jupyter lab`."
   ]
  },
  {
   "cell_type": "markdown",
   "id": "e1646fff-3e39-4060-9cba-e310f8a7351b",
   "metadata": {
    "tags": [],
    "toc-hr-collapsed": true
   },
   "source": [
    "# Common Mistakes"
   ]
  },
  {
   "cell_type": "markdown",
   "id": "e1fc3297-ef3a-4ad1-92b4-95384753f60e",
   "metadata": {
    "tags": [],
    "toc-hr-collapsed": true
   },
   "source": [
    "### Running Jupyter from the wrong folder"
   ]
  },
  {
   "cell_type": "markdown",
   "id": "98accfc5-dd95-46ad-900b-4c00625f2def",
   "metadata": {},
   "source": [
    "If you are in a jupyter notebook and receive an error message when trying to import your data, first make sure that the notebook you are running is inside your project folder. \n",
    "\n",
    "To check this, you can run the following line in a code cell to output the path for your jupyter notebook\n",
    "```python\n",
    "!pwd\n",
    "```\n",
    "\n",
    "If the name of your project folder does not appear within the path, your notebook is not in the correct location. In this case you will need to:\n",
    "1. Open your terminal window\n",
    "2. Shut jupyter down by holding down the `control` button on your keyboard and then typing the letter `c`.\n",
    "3. Navigate into your project folder in the terminal window\n",
    "4. Run Jupyter from the **top level** of your project folder."
   ]
  },
  {
   "cell_type": "markdown",
   "id": "ee928e66-2fb8-414e-a4ff-22046cb3f955",
   "metadata": {
    "tags": [],
    "toc-hr-collapsed": true
   },
   "source": [
    "### I deleted a cell. What do I do?"
   ]
  },
  {
   "cell_type": "markdown",
   "id": "ac29ceea-54b6-41c9-9e6e-810e29621d51",
   "metadata": {},
   "source": [
    "Whether you are using `Jupyter Notebook` or `Jupyter Lab`, the answer is to undo the deletion. "
   ]
  },
  {
   "cell_type": "markdown",
   "id": "46f45e41-896b-4f84-b9b4-a4e3fbbedb1c",
   "metadata": {
    "tags": []
   },
   "source": [
    "##### Undo the deletion with your keyboard:"
   ]
  },
  {
   "cell_type": "markdown",
   "id": "b69fc825-20d6-41d3-a909-b9a9022a2211",
   "metadata": {},
   "source": [
    "1. Press the `esc` key on your keyboard.\n",
    "2. Press the letter `z` on your keyboard."
   ]
  },
  {
   "cell_type": "markdown",
   "id": "5a92a26d-8631-4f31-9533-2c6d14497459",
   "metadata": {
    "tags": []
   },
   "source": [
    "##### Undo the deletion with your mouse:"
   ]
  },
  {
   "cell_type": "markdown",
   "id": "5aca84ec-2281-490c-891b-a7cee83567ff",
   "metadata": {},
   "source": [
    "**Jupyter Notebook**\n",
    "\n",
    "1. Click on the `Edit` dropdown in the top left of your screen\n",
    "2. Select `Undo Delete Cells`\n",
    "\n",
    "**Jupyter Lab**\n",
    "1. Click on the `Edit` dropdown in the top left of your screen\n",
    "2. Select `Undo Cell Operation`"
   ]
  },
  {
   "cell_type": "markdown",
   "id": "5c7ab890-ef0c-427d-ba05-e1b660fac611",
   "metadata": {
    "tags": [],
    "toc-hr-collapsed": true
   },
   "source": [
    "### Can I run Jupyter without an internet connection?"
   ]
  },
  {
   "cell_type": "markdown",
   "id": "bec19108-6b41-42e7-b24f-5d8ef92a1480",
   "metadata": {},
   "source": [
    "**Yes. In most cases, you will not need an internet connection to use Jupyter. If your internet goes out, you should still be able to run Jupyter and access your project files.**\n",
    "\n",
    ">If we look at the url in the current browser, you will notice that it begins with the phase `localhost`. This means we are using the web browser to render files stored on our computer's hard drive, rather than files stored online."
   ]
  },
  {
   "cell_type": "markdown",
   "id": "3c40be10-c5f9-4f27-8317-e53de478e7f3",
   "metadata": {
    "tags": [],
    "toc-hr-collapsed": true
   },
   "source": [
    "### Restart your kernel and run all of your cells before submitting your project"
   ]
  },
  {
   "cell_type": "markdown",
   "id": "fa75ffdd-2836-4570-973f-61103f67722a",
   "metadata": {},
   "source": [
    "When coding in Jupyter, it is very easy to define a variable, delete the cell, then use the variable later. The problem is that if someone else were to download your notebook, and run your code, the notebook would crash because the cell definining the variable was deleted.\n",
    "\n",
    "**It is a project requirement that whatever notebook you submit can run without throwing an error.** In order to ensure you are meeting this requirement, you should restart your kernel and run all of your cells before submitting your project."
   ]
  },
  {
   "cell_type": "markdown",
   "id": "be86500c-582d-435e-9811-75c9b7cba5db",
   "metadata": {
    "tags": []
   },
   "source": [
    "# Useful keyboard shortcuts"
   ]
  },
  {
   "cell_type": "markdown",
   "id": "a9eed74c-cc47-4fe8-91de-f212ea0a069a",
   "metadata": {},
   "source": [
    "If you are using a Windows computer, replace `command` with `control`."
   ]
  },
  {
   "cell_type": "markdown",
   "id": "d0f3a9e4-165a-42af-ba0a-b61dd39a1508",
   "metadata": {
    "tags": [],
    "toc-hr-collapsed": true
   },
   "source": [
    "### Edit Mode vs Command Mode"
   ]
  },
  {
   "cell_type": "markdown",
   "id": "55639ac9-62dd-4788-b593-349b1d85a4ab",
   "metadata": {},
   "source": [
    "When using a `.ipynb` file, there are two \"modes\". \n",
    "1. `Edit Mode`\n",
    "    - You are in edit mode whenever you are able to type inside a cell. \n",
    "    - To enter edit mode, click once on a code cell, or double click on a markdown cell.\n",
    "    - If you are in command mode, you can enter edit mode by pressing the `enter` key on your keyboard.\n",
    "2. `Command Mode`\n",
    "    - You are in command mode when you are not able to type inside a cell. \n",
    "    - To enter escape mode, press the `esc` key on your keyboard or click once once on a markdown cell."
   ]
  },
  {
   "cell_type": "markdown",
   "id": "fc7eb721-f652-43fe-b662-818824d71ebc",
   "metadata": {
    "tags": [],
    "toc-hr-collapsed": true
   },
   "source": [
    "### Edit Mode Shorcuts"
   ]
  },
  {
   "cell_type": "markdown",
   "id": "4542a9c0-a52a-47cb-bcc0-614752631408",
   "metadata": {},
   "source": [
    "| Description                                   | Command                                                                                            |\n",
    "|-----------------------------------------------|----------------------------------------------------------------------------------------------------|\n",
    "| Select all                                    | `command` + `a`                                                                                    |\n",
    "| Comment out multiple lines                    | Highlight the lines you'd like to comment out. Type `command` + `/`                                |\n",
    "| Indent multiple lines at once                 | Highlight the lines of code you'd like to indent. Press `tab`.                                     |\n",
    "| Unindent                                      | `shift` + `tab`                                                                                    |\n",
    "| Edit a variable name in multiple locations    | Hold down `command`. Using your mouse, place your cursor next to each variable you'd like to edit. |\n",
    "| Enter command mode                            | `esc`                                                                                              |\n",
    "| Save                                          | `command` + `s`                                                                                    |\n",
    "| Move your cursor to the end of the line       | `command` + `→`                                                                                    |\n",
    "| Move your cursor to the beginning of the line | `command` + `←`                                                                                    |\n",
    "| Highlight everything right of your cursor     | `command` + `shift` + `→`                                                                          |\n",
    "| Highlight everything left of your cursor      | `command` + `shift` + `←`                                                                          |"
   ]
  },
  {
   "cell_type": "markdown",
   "id": "7627d1f9-a169-4c47-9f83-35e55f7abbcd",
   "metadata": {
    "tags": [],
    "toc-hr-collapsed": true
   },
   "source": [
    "### Command Mode Shortcuts"
   ]
  },
  {
   "cell_type": "markdown",
   "id": "3de3a93d-1315-45fc-af53-c0cdfe8f87a2",
   "metadata": {},
   "source": [
    "| Description                              | Command |\n",
    "|------------------------------------------|---------|\n",
    "| Enter edit mode                          | `enter` |\n",
    "| Create a new cell below the current cell | `b`     |\n",
    "| Create a new cell above the current cell | `a`     |\n",
    "| Convert to markdown cell                 | `m`     |\n",
    "| Convert to code cell                     | `y`     |"
   ]
  },
  {
   "cell_type": "markdown",
   "id": "e18c043e-a103-4b32-a35d-d4ead22135d5",
   "metadata": {},
   "source": [
    "# Extensions"
   ]
  },
  {
   "cell_type": "markdown",
   "id": "32b90cca-e5cb-4520-b59d-645ac61573da",
   "metadata": {},
   "source": [
    "There are many extensions that can be used with Jupyter. We emphasize the use of at least two.\n",
    "1. Table of Contents\n",
    "2. Collapsible Headers"
   ]
  },
  {
   "cell_type": "markdown",
   "id": "8596df09-66d3-4232-909b-23f1bfbc0df8",
   "metadata": {},
   "source": [
    "**Jupyter Lab**"
   ]
  },
  {
   "cell_type": "markdown",
   "id": "cc744280-cd10-4f65-a6e3-be2fae521b2b",
   "metadata": {},
   "source": [
    "In Jupyter Lab, table of contents is built in. \n",
    "\n",
    "To add collapsible headers in jupyter lab, run the following in terminal \n",
    "\n",
    "```\n",
    "pip install aquirdturtle_collapsible_headings\n",
    "```"
   ]
  },
  {
   "cell_type": "markdown",
   "id": "28387301-5cf9-4891-92c9-bd165f88e386",
   "metadata": {},
   "source": [
    "**Jupyter Notebook**"
   ]
  },
  {
   "cell_type": "markdown",
   "id": "94b33b98-62e2-4b70-8863-e4adb834f6b2",
   "metadata": {},
   "source": [
    "To add extensions to Jupyter Notebook, run the following command in terminal\n",
    "\n",
    "```\n",
    "pip install jupyter_contrib_nbextensions && jupyter contrib nbextension install \n",
    "```"
   ]
  },
  {
   "cell_type": "markdown",
   "id": "14dea76d-8f69-4f9d-812d-7b507b2c054a",
   "metadata": {},
   "source": [
    "Once the above command is complete, open Jupyter Notebook and click on thr `Nbextensions` tab\n",
    "\n",
    "<img src=\"static/nbextensions_tab.png\" width=\"500px;\">"
   ]
  },
  {
   "cell_type": "markdown",
   "id": "4b02f371-95cc-4881-9f44-13b872ec0b27",
   "metadata": {},
   "source": [
    "Then select the `Collapsible Headings` and `Table of Contents` settings."
   ]
  },
  {
   "cell_type": "markdown",
   "id": "5ecf7ebb-b323-4c0d-b2b6-aee0b78921dd",
   "metadata": {},
   "source": [
    "# Folder Organization"
   ]
  },
  {
   "cell_type": "markdown",
   "id": "543e74d6-3950-4625-b787-1de666a26a5d",
   "metadata": {},
   "source": [
    "At minimum, your project repositories should contain seperate folders for images and datasets.\n",
    "\n",
    "Let's visit [this repository](https://github.com/learn-co-curriculum/bad-project-repo) to observe why these two folders are necessary, when compared to the more organized version [here](https://github.com/learn-co-curriculum/dsc-project-template/tree/example-mvp)"
   ]
  },
  {
   "cell_type": "markdown",
   "id": "57cdcdce-5c0e-45c0-8ab4-b62d632510a8",
   "metadata": {},
   "source": [
    "When working in Jupyter, it is likely that you will end up with numerous notebooks containing different investigations. For this reason, it can oftentimes be helpful to have a `notebooks` folder as well."
   ]
  },
  {
   "cell_type": "markdown",
   "id": "0684b774-b97f-4c02-a039-5f51414723e7",
   "metadata": {},
   "source": [
    "# Using Markdown"
   ]
  },
  {
   "cell_type": "markdown",
   "id": "7bf18519-6dfd-4a77-ba20-c0260e3f4ee6",
   "metadata": {},
   "source": [
    "\"Not enough markdown\" is the number one critique given for student projects. \n",
    "\n",
    "Here are the main things you can use in Markdown\n",
    "\n",
    "1. Headers\n",
    "    - Place a hashtag and a space before a title to make the title stand out\n",
    "    - Example: `# Title`\n",
    "        - The more hashtags you use (`#` vs `###`) the smaller the title\n",
    "2. Normal text can be written without any extra formatting\n",
    "3. Bold language by placing `**` befor and after a sentence or word.\n",
    "4. Italicize language by placing a `*` before and after a sentence or word.\n",
    "\n",
    "For a full Markdown guide, see [this article](https://guides.github.com/features/mastering-markdown/)"
   ]
  }
 ],
 "metadata": {
  "kernelspec": {
   "display_name": "Python 3",
   "language": "python",
   "name": "python3"
  },
  "language_info": {
   "codemirror_mode": {
    "name": "ipython",
    "version": 3
   },
   "file_extension": ".py",
   "mimetype": "text/x-python",
   "name": "python",
   "nbconvert_exporter": "python",
   "pygments_lexer": "ipython3",
   "version": "3.7.4"
  },
  "toc-autonumbering": false,
  "toc-showcode": true,
  "toc-showmarkdowntxt": false,
  "toc-showtags": false
 },
 "nbformat": 4,
 "nbformat_minor": 5
}
